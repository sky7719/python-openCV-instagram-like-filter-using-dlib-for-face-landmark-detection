{
 "cells": [
  {
   "cell_type": "code",
   "execution_count": 6,
   "metadata": {},
   "outputs": [],
   "source": [
    "import cv2\n",
    "import numpy as np\n",
    "import dlib\n",
    "\n",
    "def empty(a):\n",
    "    pass\n",
    "\n",
    "cv2.namedWindow(\"BGR\")\n",
    "cv2.resizeWindow(\"BGR\",400,240)\n",
    "cv2.createTrackbar(\"Blue\",\"BGR\",0,255,empty)\n",
    "cv2.createTrackbar(\"Green\",\"BGR\",0,255,empty)\n",
    "cv2.createTrackbar(\"Red\",\"BGR\",0,255,empty)\n",
    "\n",
    "def cropimg(img,points,scale=5):\n",
    "    \n",
    "    mask = np.zeros_like(img)\n",
    "    mask = cv2.fillPoly(mask,[points],(255,255,255))\n",
    "    return mask\n",
    "\n",
    "detector = dlib.get_frontal_face_detector()\n",
    "predictor = dlib.shape_predictor(\"shape_predictor_68_face_landmarks.dat\")\n",
    "cap = cv2.VideoCapture(0)\n",
    "\n",
    "while True:\n",
    "    _,img = cap.read()\n",
    "#     imgColor = np.zeros_like(img)\n",
    "    if _:\n",
    "        imgorig = img.copy()\n",
    "        gray = cv2.cvtColor(img,cv2.COLOR_BGR2GRAY)\n",
    "        faces = detector(gray)\n",
    "        for face in faces:\n",
    "            x1,y1 = face.left(),face.top()\n",
    "            x2,y2 = face.right(),face.bottom()\n",
    "            landmarks = predictor(gray,face)\n",
    "            myPoints = []\n",
    "            for n in range(0,68):\n",
    "                x = landmarks.part(n).x\n",
    "                y = landmarks.part(n).y\n",
    "                myPoints.append([x,y])\n",
    "            myPoints = np.array(myPoints)\n",
    "            leye = cropimg(imgorig,myPoints[36:42])\n",
    "            reye = cropimg(imgorig,myPoints[42:48])\n",
    "            eyes = cv2.bitwise_or(leye,reye)\n",
    "            b = cv2.getTrackbarPos(\"Blue\",\"BGR\")\n",
    "            g = cv2.getTrackbarPos(\"Green\",\"BGR\")\n",
    "            r = cv2.getTrackbarPos(\"Red\",\"BGR\")\n",
    "            imgColor = np.zeros_like(eyes)\n",
    "            imgColor[:] = b,g,r\n",
    "            imgColor = cv2.bitwise_and(imgColor,eyes)\n",
    "            imgColor = cv2.GaussianBlur(imgColor,(7,7),10)\n",
    "            imgColor = cv2.addWeighted(imgorig,0.4,imgColor,1,0)\n",
    "        cv2.imshow(\"BGR\",imgColor)\n",
    "        if cv2.waitKey(1)==13:\n",
    "            break\n",
    "    else:\n",
    "        print(\"Image not found\")\n",
    "cap.release()\n",
    "cv2.destroyAllWindows()"
   ]
  },
  {
   "cell_type": "code",
   "execution_count": null,
   "metadata": {},
   "outputs": [],
   "source": []
  }
 ],
 "metadata": {
  "kernelspec": {
   "display_name": "Python 3",
   "language": "python",
   "name": "python3"
  },
  "language_info": {
   "codemirror_mode": {
    "name": "ipython",
    "version": 3
   },
   "file_extension": ".py",
   "mimetype": "text/x-python",
   "name": "python",
   "nbconvert_exporter": "python",
   "pygments_lexer": "ipython3",
   "version": "3.7.3"
  }
 },
 "nbformat": 4,
 "nbformat_minor": 2
}
